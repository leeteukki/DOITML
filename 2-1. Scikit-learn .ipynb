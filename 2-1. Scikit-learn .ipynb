{
 "cells": [
  {
   "cell_type": "markdown",
   "metadata": {},
   "source": [
    "## 머신러닝 프레임 워크  Scikit-learn\n",
    "\n",
    "파이썬에서 쉽게 사용할 수 있는 머신러닝 프레임워크 \"scikit-learn\"을 사용해보자. \n",
    "scikit-learn은 파이썬 머신러닝 라이브러리의 정석과도 같은 라이브러이임.\n",
    "\n",
    "sckikit-learn은 다양한 분류기를 지원하며, 머신러닝의 결과를 검증하는 기능도 가지고 있음.\n",
    "또한, 회귀, 클러스터링, 차원 축소처럼 머신러닝에서 자주 사용되는 다양한 알고리즘을 지원함.\n",
    "\n",
    "또한 머신러닝을 바로 테스트해볼 수 있게 샘플 데이터도 제공함.\n",
    "\n",
    "scikit-learn은 pip 명령어를 사용해 패키지를 설치할 수 있음"
   ]
  },
  {
   "cell_type": "code",
   "execution_count": 2,
   "metadata": {},
   "outputs": [
    {
     "name": "stdout",
     "output_type": "stream",
     "text": [
      "Collecting scikit-learn\n",
      "  Downloading scikit_learn-0.23.2-cp37-cp37m-macosx_10_9_x86_64.whl (7.2 MB)\n",
      "\u001b[K     |████████████████████████████████| 7.2 MB 4.4 MB/s eta 0:00:01\n",
      "\u001b[?25hCollecting scipy\n",
      "  Downloading scipy-1.5.2-cp37-cp37m-macosx_10_9_x86_64.whl (28.7 MB)\n",
      "\u001b[K     |████████████████████████████████| 28.7 MB 578 kB/s eta 0:00:011\n",
      "\u001b[?25hCollecting matplotlib\n",
      "  Downloading matplotlib-3.3.2-cp37-cp37m-macosx_10_9_x86_64.whl (8.5 MB)\n",
      "\u001b[K     |████████████████████████████████| 8.5 MB 4.1 MB/s eta 0:00:01\n",
      "\u001b[?25hCollecting scikit-image\n",
      "  Downloading scikit_image-0.17.2-cp37-cp37m-macosx_10_13_x86_64.whl (12.1 MB)\n",
      "\u001b[K     |████████████████████████████████| 12.1 MB 24.1 MB/s eta 0:00:01\n",
      "\u001b[?25hRequirement already satisfied, skipping upgrade: numpy>=1.13.3 in /opt/anaconda3/lib/python3.7/site-packages (from scikit-learn) (1.18.1)\n",
      "Collecting threadpoolctl>=2.0.0\n",
      "  Downloading threadpoolctl-2.1.0-py3-none-any.whl (12 kB)\n",
      "Requirement already satisfied, skipping upgrade: joblib>=0.11 in /opt/anaconda3/lib/python3.7/site-packages (from scikit-learn) (0.14.1)\n",
      "Collecting certifi>=2020.06.20\n",
      "  Downloading certifi-2020.6.20-py2.py3-none-any.whl (156 kB)\n",
      "\u001b[K     |████████████████████████████████| 156 kB 4.1 MB/s eta 0:00:01\n",
      "\u001b[?25hRequirement already satisfied, skipping upgrade: kiwisolver>=1.0.1 in /opt/anaconda3/lib/python3.7/site-packages (from matplotlib) (1.1.0)\n",
      "Requirement already satisfied, skipping upgrade: python-dateutil>=2.1 in /opt/anaconda3/lib/python3.7/site-packages (from matplotlib) (2.8.1)\n",
      "Requirement already satisfied, skipping upgrade: cycler>=0.10 in /opt/anaconda3/lib/python3.7/site-packages (from matplotlib) (0.10.0)\n",
      "Requirement already satisfied, skipping upgrade: pyparsing!=2.0.4,!=2.1.2,!=2.1.6,>=2.0.3 in /opt/anaconda3/lib/python3.7/site-packages (from matplotlib) (2.4.6)\n",
      "Requirement already satisfied, skipping upgrade: pillow>=6.2.0 in /opt/anaconda3/lib/python3.7/site-packages (from matplotlib) (7.0.0)\n",
      "Requirement already satisfied, skipping upgrade: imageio>=2.3.0 in /opt/anaconda3/lib/python3.7/site-packages (from scikit-image) (2.6.1)\n",
      "Requirement already satisfied, skipping upgrade: networkx>=2.0 in /opt/anaconda3/lib/python3.7/site-packages (from scikit-image) (2.4)\n",
      "Collecting tifffile>=2019.7.26\n",
      "  Downloading tifffile-2020.9.30-py3-none-any.whl (152 kB)\n",
      "\u001b[K     |████████████████████████████████| 152 kB 4.6 MB/s eta 0:00:01\n",
      "\u001b[?25hRequirement already satisfied, skipping upgrade: PyWavelets>=1.1.1 in /opt/anaconda3/lib/python3.7/site-packages (from scikit-image) (1.1.1)\n",
      "Requirement already satisfied, skipping upgrade: setuptools in /opt/anaconda3/lib/python3.7/site-packages (from kiwisolver>=1.0.1->matplotlib) (46.0.0.post20200309)\n",
      "Requirement already satisfied, skipping upgrade: six>=1.5 in /opt/anaconda3/lib/python3.7/site-packages (from python-dateutil>=2.1->matplotlib) (1.14.0)\n",
      "Requirement already satisfied, skipping upgrade: decorator>=4.3.0 in /opt/anaconda3/lib/python3.7/site-packages (from networkx>=2.0->scikit-image) (4.4.1)\n",
      "Installing collected packages: threadpoolctl, scipy, scikit-learn, certifi, matplotlib, tifffile, scikit-image\n",
      "  Attempting uninstall: scipy\n",
      "    Found existing installation: scipy 1.4.1\n",
      "    Uninstalling scipy-1.4.1:\n",
      "      Successfully uninstalled scipy-1.4.1\n",
      "  Attempting uninstall: scikit-learn\n",
      "    Found existing installation: scikit-learn 0.22.1\n",
      "    Uninstalling scikit-learn-0.22.1:\n",
      "      Successfully uninstalled scikit-learn-0.22.1\n",
      "  Attempting uninstall: certifi\n",
      "    Found existing installation: certifi 2019.11.28\n",
      "    Uninstalling certifi-2019.11.28:\n",
      "      Successfully uninstalled certifi-2019.11.28\n",
      "  Attempting uninstall: matplotlib\n",
      "    Found existing installation: matplotlib 3.1.3\n",
      "    Uninstalling matplotlib-3.1.3:\n",
      "      Successfully uninstalled matplotlib-3.1.3\n",
      "  Attempting uninstall: scikit-image\n",
      "    Found existing installation: scikit-image 0.16.2\n",
      "    Uninstalling scikit-image-0.16.2:\n",
      "      Successfully uninstalled scikit-image-0.16.2\n",
      "Successfully installed certifi-2020.6.20 matplotlib-3.3.2 scikit-image-0.17.2 scikit-learn-0.23.2 scipy-1.5.2 threadpoolctl-2.1.0 tifffile-2020.9.30\n",
      "Note: you may need to restart the kernel to use updated packages.\n"
     ]
    }
   ],
   "source": [
    "pip install -U scikit-learn scipy matplotlib scikit-image"
   ]
  },
  {
   "cell_type": "markdown",
   "metadata": {},
   "source": [
    "데이터를 읽어 들이고 분할할 때 편리하게 사용할 수 있는 Pandas도 설치함.\n"
   ]
  },
  {
   "cell_type": "code",
   "execution_count": 3,
   "metadata": {},
   "outputs": [
    {
     "name": "stdout",
     "output_type": "stream",
     "text": [
      "Requirement already satisfied: pandas in /opt/anaconda3/lib/python3.7/site-packages (1.0.1)\n",
      "Requirement already satisfied: numpy>=1.13.3 in /opt/anaconda3/lib/python3.7/site-packages (from pandas) (1.18.1)\n",
      "Requirement already satisfied: python-dateutil>=2.6.1 in /opt/anaconda3/lib/python3.7/site-packages (from pandas) (2.8.1)\n",
      "Requirement already satisfied: pytz>=2017.2 in /opt/anaconda3/lib/python3.7/site-packages (from pandas) (2019.3)\n",
      "Requirement already satisfied: six>=1.5 in /opt/anaconda3/lib/python3.7/site-packages (from python-dateutil>=2.6.1->pandas) (1.14.0)\n",
      "Note: you may need to restart the kernel to use updated packages.\n"
     ]
    }
   ],
   "source": [
    "pip install pandas"
   ]
  },
  {
   "cell_type": "code",
   "execution_count": 4,
   "metadata": {},
   "outputs": [
    {
     "name": "stdout",
     "output_type": "stream",
     "text": [
      "Collecting pandas\n",
      "  Downloading pandas-1.1.2-cp37-cp37m-macosx_10_9_x86_64.whl (10.4 MB)\n",
      "\u001b[K     |████████████████████████████████| 10.4 MB 5.6 MB/s eta 0:00:01\n",
      "\u001b[?25hRequirement already satisfied, skipping upgrade: pytz>=2017.2 in /opt/anaconda3/lib/python3.7/site-packages (from pandas) (2019.3)\n",
      "Requirement already satisfied, skipping upgrade: numpy>=1.15.4 in /opt/anaconda3/lib/python3.7/site-packages (from pandas) (1.18.1)\n",
      "Requirement already satisfied, skipping upgrade: python-dateutil>=2.7.3 in /opt/anaconda3/lib/python3.7/site-packages (from pandas) (2.8.1)\n",
      "Requirement already satisfied, skipping upgrade: six>=1.5 in /opt/anaconda3/lib/python3.7/site-packages (from python-dateutil>=2.7.3->pandas) (1.14.0)\n",
      "Installing collected packages: pandas\n",
      "  Attempting uninstall: pandas\n",
      "    Found existing installation: pandas 1.0.1\n",
      "    Uninstalling pandas-1.0.1:\n",
      "      Successfully uninstalled pandas-1.0.1\n",
      "Successfully installed pandas-1.1.2\n",
      "Note: you may need to restart the kernel to use updated packages.\n"
     ]
    }
   ],
   "source": [
    "pip install pandas --upgrade"
   ]
  },
  {
   "cell_type": "markdown",
   "metadata": {},
   "source": [
    "## XOR 연산 학습해보기"
   ]
  },
  {
   "cell_type": "code",
   "execution_count": 6,
   "metadata": {},
   "outputs": [
    {
     "name": "stdout",
     "output_type": "stream",
     "text": [
      " 예측결과 [0 1 1 0]\n",
      "정답률 : 4 / 4 = 1.0\n"
     ]
    }
   ],
   "source": [
    "from sklearn import svm\n",
    "\n",
    "# XOR 계산 결과 데이터 - (1)\n",
    "xor_data = [\n",
    "    #P, Q, result\n",
    "    [0,0,0],\n",
    "    [0,1,1],\n",
    "    [1,0,1],\n",
    "    [1,1,0]\n",
    "]\n",
    "\n",
    "# 학습을 위해 데이터와 레이블 분리하기 - (2)\n",
    "data = []\n",
    "label = []\n",
    "for row in xor_data:\n",
    "    p = row[0]\n",
    "    q = row[1]\n",
    "    r = row[2]\n",
    "    data.append([p,q])\n",
    "    label.append(r)\n",
    "    \n",
    "# 데이터 학습시키기 - (3)\n",
    "clf = svm.SVC()\n",
    "clf.fit(data, label)\n",
    "\n",
    "# 데이터 예측하기 -(4)\n",
    "pre = clf.predict(data)\n",
    "print(\" 예측결과\", pre)\n",
    "\n",
    "# 결과 확인하기 - (5)\n",
    "ok = 0; total = 0\n",
    "for idx, answer in enumerate(label):\n",
    "    p = pre[idx]\n",
    "    if p == answer: ok += 1\n",
    "    total += 1\n",
    "print(\"정답률 :\", ok, \"/\", total, \"=\", ok/total)"
   ]
  },
  {
   "cell_type": "markdown",
   "metadata": {},
   "source": [
    "결과는 4개의 데이터 모두 정답임. 따라서 4/4=1.0이 되어 정답률이 1.0임. \n",
    "머신러닝으로 XOR 연산을 학습시킨것. "
   ]
  },
  {
   "cell_type": "markdown",
   "metadata": {},
   "source": [
    "(1)에서는 XOR 연산의 입력과 결과를 2차원 리스트로 정의함. 리스트 내부에 있는 리스트의 요소는 차례대로 입력 P,Q와 답을 나타냄\n",
    "\n",
    "(2)에서는 입력을 \"학습시키기 위한 데이터 변수\"와 \"정답 레이블 변수\"로 나눔. 이렇게 나누는 이유는 scikit-learn의 머신러닝을 수행할 때 사용하는 fit()메서드의 매개변수를 맞추기 위함임.\n",
    "\n",
    "(3)에서는 SVM이라는 알고리즘을 사용해 머신러닝을 수행함. SVM 객체를 만들고, fit()메서드를 사용해 데이터를 학습시킴. fit() 메서드는 첫번째 매개변수로 학습할 데이터 배열을, 두 번째 매개변수로 레이블 배열을 전달함. (2)에서 입력을 분할한 이유임.\n",
    "\n",
    "(4)에서는 학습한 결과를 기반으로 데이터를 예측함. predict() 메서드에 예측하고 싶은 데이터 배열을 전달하면 데이터 수만큼 예측 결과를 리턴해줌.\n",
    "\n",
    "(5)에서는 예측 결과가 정답과 맞는지 확인함. for 반복문을 사용해 하나하나의 예측결과가 맞는지 확인하고, 정답률을 계산\n",
    "\n",
    "프로그램의 흐름을 간단하게 나타내면 다음과 같음.\n",
    "\n",
    "[1] 학습 기계에 데이터를 학습시킴 - fit() 메서드\n",
    "\n",
    "[2] 데이터를 넣어 예측시킴 - predict() 메서드"
   ]
  },
  {
   "cell_type": "markdown",
   "metadata": {},
   "source": [
    "## 프레임워크로 프로그램 간단하게 작성하기\n",
    "\n",
    "scikit-learn 에는 데이터와 레이블을 나누고, 정답률을 간단하게 계산해주는 기능이 있음. 이러한 프레임워크를 사용해 프로그램을 간단하게 다시 작성하면 다음과 같음.\n"
   ]
  },
  {
   "cell_type": "code",
   "execution_count": 8,
   "metadata": {},
   "outputs": [
    {
     "name": "stdout",
     "output_type": "stream",
     "text": [
      " 정답률 =  1.0\n"
     ]
    }
   ],
   "source": [
    "import pandas as pd\n",
    "from sklearn import svm, metrics\n",
    "\n",
    "# XOR 연산\n",
    "xor_input = [\n",
    "    [0, 0, 0],\n",
    "    [0, 1, 1],\n",
    "    [1, 0, 1],\n",
    "    [1, 1, 0]\n",
    "]\n",
    "\n",
    "# 입력을 학습 전용 데이터와 테스트 전용 데이터로 분류하기 - (1)\n",
    "xor_df = pd.DataFrame(xor_input)\n",
    "# 데이터\n",
    "xor_data = xor_df.loc[:,0:1]\n",
    "# 레이블\n",
    "xor_label = xor_df.loc[:,2]\n",
    "\n",
    "# 데이터 학습과 예측하기 - (2)\n",
    "clf = svm.SVC()\n",
    "clf.fit(xor_data, xor_label)\n",
    "pre = clf.predict(xor_data)\n",
    "\n",
    "# 정답률 구하기 - (3)\n",
    "ac_score = metrics.accuracy_score(xor_label, pre)\n",
    "print(\" 정답률 = \", ac_score)"
   ]
  },
  {
   "cell_type": "markdown",
   "metadata": {},
   "source": [
    "(1)에서는 입력된 데이터를 학습 데이터와 레이블로 나눔. 딱 3줄밖에 되지 않음. 이는 Pandas 모듈의 DataFrame 기능을 사용했기 때문임.\n",
    "\n",
    "(2)에서는 학습시키고, 예측함. 이전의 프로그램과 같음. 그리고 성공률을 구하는 (3)도 한줄로 줄었음 \n",
    "metrics.accuracy_score() 함수를 이용하면 정답률을 이처럼 쉽게 구할 수 있음. 이때 매개변수에는 실제 답과 예측 결과 배열을 전달함."
   ]
  },
  {
   "cell_type": "markdown",
   "metadata": {},
   "source": [
    "## 붓꽃의 품종 분류하기\n",
    "\n",
    "대충 방법을 알았으니 조금 현실적인 데이터를 사용해보자. 이번 절에서는 외떡잎식물 백합목 붓꽃과 여러해살이풀인 \"붓꽃'을 분류해보겠음. 붓꽃은 150종류 이상의 품종이 있어서 일반적인 사람은 물론이고 꽃을 조금 아는 사람도 품종을 분류하기 굉장히 어려움. 머신러닝을 사용해 꽃잎과 꽃받침의 크기를 기반으로 분류해보자"
   ]
  },
  {
   "cell_type": "markdown",
   "metadata": {},
   "source": [
    "## 머신러닝으로 붓꽃 품종 분류하기\n",
    "\n",
    "지금부터 만들 프로그램의 목표는 꽃잎과 꽃받침의 길이와 폭을 기반으로 붓꽃의 품종을 분류하는 것임.\n",
    "\n",
    "CSV 파일에는 150개의 데이터가 들어 있는데, 100개는 학습을 위햐 사용하고, 50개는 테스트를 위해 사용함."
   ]
  },
  {
   "cell_type": "code",
   "execution_count": 22,
   "metadata": {},
   "outputs": [
    {
     "name": "stdout",
     "output_type": "stream",
     "text": [
      "정답률 = 0.98\n"
     ]
    }
   ],
   "source": [
    "from sklearn import svm, metrics\n",
    "import random, re\n",
    "\n",
    "# 붓꽃의 CSV 데이터 읽어 들이기 --- (※1)\n",
    "csv = []\n",
    "with open('iris.csv', 'r', encoding='utf-8') as fp:\n",
    "    # 한 줄씩 읽어 들이기\n",
    "    for line in fp:\n",
    "        line = line.strip()    # 줄바꿈 제거\n",
    "        cols = line.split(',') # 쉼표로 자르기\n",
    "        # 문자열 데이터를 숫자로 변환하기\n",
    "        fn = lambda n : float(n) if re.match(r'^[0-9\\.]+$', n) else n\n",
    "        cols = list(map(fn, cols))\n",
    "        csv.append(cols)\n",
    "        \n",
    "# 가장 앞 줄의 헤더 제거\n",
    "del csv[0]\n",
    "\n",
    "# 데이터 셔플하기(섞기) --- (※2)\n",
    "random.shuffle(csv)\n",
    "\n",
    "# 학습 전용 데이터와 테스트 전용 데이터 분할하기(2:1 비율) --- (※3)\n",
    "total_len = len(csv)\n",
    "train_len = int(total_len * 2 / 3)\n",
    "train_data = []\n",
    "train_label = []\n",
    "test_data = []\n",
    "test_label = []\n",
    "for i in range(total_len):\n",
    "    data  = csv[i][0:4]\n",
    "    label = csv[i][4]\n",
    "    if i < train_len:\n",
    "        train_data.append(data)\n",
    "        train_label.append(label)\n",
    "    else:\n",
    "        test_data.append(data)\n",
    "        test_label.append(label)\n",
    "        \n",
    "# 데이터를 학습시키고 예측하기 --- (※4)\n",
    "clf = svm.SVC()\n",
    "clf.fit(train_data, train_label)\n",
    "pre = clf.predict(test_data)\n",
    "\n",
    "# 정답률 구하기 --- (※5)\n",
    "ac_score = metrics.accuracy_score(test_label, pre)\n",
    "print(\"정답률 =\", ac_score)\n"
   ]
  },
  {
   "cell_type": "markdown",
   "metadata": {},
   "source": [
    "(1)에서는 붓꽃의 CSV 데이터를 읽어 들임. 읽어 들이고 줄바꿈과 쉼표로 표를 자르고 CSV 파일의 상단에 첫줄의 레이블을 삭제함.\n",
    "\n",
    "(2)에서는 random.shuffle 메서드를 이용해서 csv 파일의 데이터를 무작위로 섞어줌. 이는 정규적으로 나열된 데이터를 섞음으로써 학습하는데 있어서 데이터가 정렬되어 있어 학습을 보다 잘하게 하는데 도움을 줌.\n",
    "\n",
    "(3)에서는 학습 전용 데이터와 테스트 데이터를 분할하는 과정임. 데이터를 2:1 비율로 나누고 2는 train데이터로 활용, 1은 test 데이터로 활용하여 데이터를 활용함. \n",
    "\n",
    "(4)에서는 섞인 데이터와 2의 데이터로 학습을 하고 test 데이터로 학습된 데이터가 잘 학습이되었는지 확인하는 과정임. \n",
    "\n",
    "(5)에서는 학습된 train 데이터와 test데이터로 학습이 잘되었는지 학습된 결과를 정답률로 구하는 과정임."
   ]
  },
  {
   "cell_type": "code",
   "execution_count": null,
   "metadata": {},
   "outputs": [],
   "source": []
  }
 ],
 "metadata": {
  "kernelspec": {
   "display_name": "Python 3",
   "language": "python",
   "name": "python3"
  },
  "language_info": {
   "codemirror_mode": {
    "name": "ipython",
    "version": 3
   },
   "file_extension": ".py",
   "mimetype": "text/x-python",
   "name": "python",
   "nbconvert_exporter": "python",
   "pygments_lexer": "ipython3",
   "version": "3.7.6"
  }
 },
 "nbformat": 4,
 "nbformat_minor": 4
}
